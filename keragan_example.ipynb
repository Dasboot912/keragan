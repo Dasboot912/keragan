{
 "metadata": {
  "language_info": {
   "codemirror_mode": {
    "name": "ipython",
    "version": 3
   },
   "file_extension": ".py",
   "mimetype": "text/x-python",
   "name": "python",
   "nbconvert_exporter": "python",
   "pygments_lexer": "ipython3",
   "version": 3
  },
  "orig_nbformat": 2
 },
 "nbformat": 4,
 "nbformat_minor": 2,
 "cells": [
  {
   "source": [
    "## Using Keragan to train GAN to produce Art\n",
    "\n",
    "In this sample notebook, we will use Keragan to train a simple low-resolution GAN to generate artistic images. We will use small 64x64 resolution, to limit training time to reasonable values. \n",
    "\n",
    "To run this code, you will need:\n",
    "\n",
    "* GPU-powered compute\n",
    "* A dataset of about 1000 images of corresponding resoltion or higher. \n",
    "\n",
    "It is a good idea to use [WikiArt](http://wikiart.org) dataset, and select one of the genres of paintings. You may find already prepared dataset [here](https://drive.google.com/file/d/1yHqS2zXgCiI9LO4gN-X5W18QYXC5bbQS/view?usp=sharing) or [here](http://web.fsktm.um.edu.my/~cschan/source/ICIP2017/wikiart.zip) or [at Kaggle](https://www.kaggle.com/ipythonx/wikiart-gangogh-creating-art-gan).\n",
    "\n",
    "> WARNING: All Wikiart datasets are around 20-30 Gb in size\n",
    "\n",
    "> WikiArt dataset can be used only for non-commercial research purpose.\n",
    "The images in the WikiArt dataset were obtained from WikiArt.org. The authors are neither responsible for the content nor the meaning of these images. By using the WikiArt dataset, you agree to obey the terms and conditions of WikiArt.org."
   ],
   "cell_type": "markdown",
   "metadata": {}
  },
  {
   "cell_type": "code",
   "execution_count": null,
   "metadata": {},
   "outputs": [],
   "source": []
  }
 ]
}